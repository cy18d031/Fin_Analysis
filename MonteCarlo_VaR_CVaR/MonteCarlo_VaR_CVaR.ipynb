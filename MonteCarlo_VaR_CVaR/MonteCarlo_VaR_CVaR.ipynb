{
 "cells": [
  {
   "cell_type": "markdown",
   "metadata": {},
   "source": [
    "# 📉 Value at Risk (VaR) and Conditional Value at Risk (CVaR) Simulation\n",
    "\n",
    "This notebook estimates portfolio risk using **Value at Risk (VaR)** and **Conditional Value at Risk (CVaR)** based on historical return data. It demonstrates both historical and parametric methods to quantify potential losses under adverse market conditions."
   ]
  },
  {
   "cell_type": "code",
   "execution_count": 6,
   "metadata": {
    "colab": {
     "base_uri": "https://localhost:8080/"
    },
    "executionInfo": {
     "elapsed": 5245,
     "status": "ok",
     "timestamp": 1754489754801,
     "user": {
      "displayName": "sc14 subha",
      "userId": "17042817127021023703"
     },
     "user_tz": -330
    },
    "id": "wFN3VxyBYK4V",
    "outputId": "a5fc1103-5ab9-4ca4-b485-61310cf1b0d9"
   },
   "outputs": [
    {
     "name": "stdout",
     "output_type": "stream",
     "text": [
      "Requirement already satisfied: yfinance in /usr/local/lib/python3.11/dist-packages (0.2.65)\n",
      "Requirement already satisfied: pandas>=1.3.0 in /usr/local/lib/python3.11/dist-packages (from yfinance) (2.2.2)\n",
      "Requirement already satisfied: numpy>=1.16.5 in /usr/local/lib/python3.11/dist-packages (from yfinance) (2.0.2)\n",
      "Requirement already satisfied: requests>=2.31 in /usr/local/lib/python3.11/dist-packages (from yfinance) (2.32.3)\n",
      "Requirement already satisfied: multitasking>=0.0.7 in /usr/local/lib/python3.11/dist-packages (from yfinance) (0.0.12)\n",
      "Requirement already satisfied: platformdirs>=2.0.0 in /usr/local/lib/python3.11/dist-packages (from yfinance) (4.3.8)\n",
      "Requirement already satisfied: pytz>=2022.5 in /usr/local/lib/python3.11/dist-packages (from yfinance) (2025.2)\n",
      "Requirement already satisfied: frozendict>=2.3.4 in /usr/local/lib/python3.11/dist-packages (from yfinance) (2.4.6)\n",
      "Requirement already satisfied: peewee>=3.16.2 in /usr/local/lib/python3.11/dist-packages (from yfinance) (3.18.2)\n",
      "Requirement already satisfied: beautifulsoup4>=4.11.1 in /usr/local/lib/python3.11/dist-packages (from yfinance) (4.13.4)\n",
      "Requirement already satisfied: curl_cffi>=0.7 in /usr/local/lib/python3.11/dist-packages (from yfinance) (0.12.0)\n",
      "Requirement already satisfied: protobuf>=3.19.0 in /usr/local/lib/python3.11/dist-packages (from yfinance) (5.29.5)\n",
      "Requirement already satisfied: websockets>=13.0 in /usr/local/lib/python3.11/dist-packages (from yfinance) (15.0.1)\n",
      "Requirement already satisfied: soupsieve>1.2 in /usr/local/lib/python3.11/dist-packages (from beautifulsoup4>=4.11.1->yfinance) (2.7)\n",
      "Requirement already satisfied: typing-extensions>=4.0.0 in /usr/local/lib/python3.11/dist-packages (from beautifulsoup4>=4.11.1->yfinance) (4.14.1)\n",
      "Requirement already satisfied: cffi>=1.12.0 in /usr/local/lib/python3.11/dist-packages (from curl_cffi>=0.7->yfinance) (1.17.1)\n",
      "Requirement already satisfied: certifi>=2024.2.2 in /usr/local/lib/python3.11/dist-packages (from curl_cffi>=0.7->yfinance) (2025.7.14)\n",
      "Requirement already satisfied: python-dateutil>=2.8.2 in /usr/local/lib/python3.11/dist-packages (from pandas>=1.3.0->yfinance) (2.9.0.post0)\n",
      "Requirement already satisfied: tzdata>=2022.7 in /usr/local/lib/python3.11/dist-packages (from pandas>=1.3.0->yfinance) (2025.2)\n",
      "Requirement already satisfied: charset-normalizer<4,>=2 in /usr/local/lib/python3.11/dist-packages (from requests>=2.31->yfinance) (3.4.2)\n",
      "Requirement already satisfied: idna<4,>=2.5 in /usr/local/lib/python3.11/dist-packages (from requests>=2.31->yfinance) (3.10)\n",
      "Requirement already satisfied: urllib3<3,>=1.21.1 in /usr/local/lib/python3.11/dist-packages (from requests>=2.31->yfinance) (2.5.0)\n",
      "Requirement already satisfied: pycparser in /usr/local/lib/python3.11/dist-packages (from cffi>=1.12.0->curl_cffi>=0.7->yfinance) (2.22)\n",
      "Requirement already satisfied: six>=1.5 in /usr/local/lib/python3.11/dist-packages (from python-dateutil>=2.8.2->pandas>=1.3.0->yfinance) (1.17.0)\n"
     ]
    },
    {
     "name": "stderr",
     "output_type": "stream",
     "text": [
      "/tmp/ipython-input-3330050080.py:11: FutureWarning: YF.download() has changed argument auto_adjust default to True\n",
      "  data = yf.download(assets, start=\"2020-01-01\", end=\"2024-12-31\")\n",
      "[*********************100%***********************]  4 of 4 completed\n"
     ]
    }
   ],
   "source": [
    "# Downloading asset data\n",
    "\n",
    "!pip install yfinance\n",
    "\n",
    "import yfinance as yf\n",
    "import numpy as np\n",
    "import pandas as pd\n",
    "import matplotlib.pyplot as plt\n",
    "\n",
    "assets = [\"AAPL\", \"MSFT\", \"GOOG\", \"AMZN\"]  # example portfolio\n",
    "data = yf.download(assets, start=\"2020-01-01\", end=\"2024-12-31\")\n",
    "\n",
    "if 'Adj Close' in data.columns.get_level_values(0):\n",
    "    data = data['Adj Close']\n",
    "else:\n",
    "    data = data['Close']"
   ]
  },
  {
   "cell_type": "code",
   "execution_count": 7,
   "metadata": {
    "executionInfo": {
     "elapsed": 36,
     "status": "ok",
     "timestamp": 1754489754843,
     "user": {
      "displayName": "sc14 subha",
      "userId": "17042817127021023703"
     },
     "user_tz": -330
    },
    "id": "gpsJXsWccbLB"
   },
   "outputs": [],
   "source": [
    "# Assigning Portfolio weightage\n",
    "returns = np.log(data / data.shift(1)).dropna() # Calculating daily log returns\n",
    "\n",
    "weights = np.array([0.25, 0.25, 0.25, 0.25])  # equal weights\n",
    "portfolio_returns = returns.dot(weights)"
   ]
  },
  {
   "cell_type": "code",
   "execution_count": 12,
   "metadata": {
    "executionInfo": {
     "elapsed": 30300,
     "status": "ok",
     "timestamp": 1754489991134,
     "user": {
      "displayName": "sc14 subha",
      "userId": "17042817127021023703"
     },
     "user_tz": -330
    },
    "id": "5Rzq1nmERW0R"
   },
   "outputs": [],
   "source": [
    "# Monte Carlo\n",
    "\n",
    "n_sims = 1000\n",
    "n_days = 250\n",
    "sim_portfolio = []\n",
    "\n",
    "# Convert portfolio returns to a list\n",
    "port_ret_list = portfolio_returns.tolist()\n",
    "\n",
    "for j in range(n_sims):\n",
    "    total_return = 0\n",
    "    for j in range(n_days):\n",
    "        # Pick a daily return at random\n",
    "        daily_ret = np.random.choice(port_ret_list)\n",
    "        total_return += daily_ret\n",
    "    sim_portfolio.append(total_return)\n",
    "\n",
    "sim_portfolio = np.array(sim_portfolio)"
   ]
  },
  {
   "cell_type": "code",
   "execution_count": 14,
   "metadata": {
    "colab": {
     "base_uri": "https://localhost:8080/"
    },
    "executionInfo": {
     "elapsed": 11,
     "status": "ok",
     "timestamp": 1754490061281,
     "user": {
      "displayName": "sc14 subha",
      "userId": "17042817127021023703"
     },
     "user_tz": -330
    },
    "id": "28utDOTic6yc",
    "outputId": "0142dd33-c949-4e61-835b-3dcf40f7c0e9"
   },
   "outputs": [
    {
     "name": "stdout",
     "output_type": "stream",
     "text": [
      "1-Year 95% VaR: -0.2692\n",
      "1-Year 95% CVaR: -0.4037\n"
     ]
    }
   ],
   "source": [
    "# Calculate risk metrics\n",
    "\n",
    "VaR_95 = np.percentile(sim_portfolio, 5)\n",
    "CVaR_95 = sim_portfolio[sim_portfolio <= VaR_95].mean()\n",
    "\n",
    "print(f\"1-Year 95% VaR: {VaR_95:.4f}\")\n",
    "print(f\"1-Year 95% CVaR: {CVaR_95:.4f}\")"
   ]
  },
  {
   "cell_type": "code",
   "execution_count": 15,
   "metadata": {
    "colab": {
     "base_uri": "https://localhost:8080/",
     "height": 472
    },
    "executionInfo": {
     "elapsed": 599,
     "status": "ok",
     "timestamp": 1754490067165,
     "user": {
      "displayName": "sc14 subha",
      "userId": "17042817127021023703"
     },
     "user_tz": -330
    },
    "id": "ZBkiyGr6eNvZ",
    "outputId": "f18f6526-de57-4928-f291-28eb293df5ef"
   },
   "outputs": [
    {
     "data": {
      "image/png": "[encoded data removed]",
      "text/plain": [
       "<Figure size 640x480 with 1 Axes>"
      ]
     },
     "metadata": {},
     "output_type": "display_data"
    }
   ],
   "source": [
    "# Plot distribution\n",
    "plt.hist(sim_portfolio, bins=50, color=\"lightcoral\", edgecolor=\"black\")\n",
    "plt.axvline(VaR_95, color=\"red\", linestyle=\"dashed\", linewidth=2, label=\"VaR (95%)\")\n",
    "plt.axvline(CVaR_95, color=\"darkred\", linestyle=\"dashed\", linewidth=2, label=\"CVaR (95%)\")\n",
    "plt.xlabel(\"Simulated Portfolio Return (1 Year)\")\n",
    "plt.ylabel(\"Frequency\")\n",
    "plt.title(\"Monte Carlo Portfolio Risk Simulation\")\n",
    "plt.legend()\n",
    "plt.show()"
   ]
  },
  {
   "cell_type": "code",
   "execution_count": null,
   "metadata": {
    "id": "uwv4IcBaegC5"
   },
   "outputs": [],
   "source": []
  }
 ],
 "metadata": {
  "colab": {
   "authorship_tag": "ABX9TyMjJSSwaXBO/aTUpphAcWdH",
   "provenance": []
  },
  "kernelspec": {
   "display_name": "Python 3",
   "name": "python3"
  },
  "language_info": {
   "name": "python"
  }
 },
 "nbformat": 4,
 "nbformat_minor": 0
}
